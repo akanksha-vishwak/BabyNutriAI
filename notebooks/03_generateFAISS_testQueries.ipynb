{
 "cells": [
  {
   "cell_type": "code",
   "execution_count": 1,
   "metadata": {},
   "outputs": [
    {
     "name": "stderr",
     "output_type": "stream",
     "text": [
      "2025-04-06 08:40:25.826238: I tensorflow/core/platform/cpu_feature_guard.cc:210] This TensorFlow binary is optimized to use available CPU instructions in performance-critical operations.\n",
      "To enable the following instructions: AVX2 FMA, in other operations, rebuild TensorFlow with the appropriate compiler flags.\n"
     ]
    }
   ],
   "source": [
    "import os\n",
    "import json\n",
    "from sentence_transformers import SentenceTransformer\n",
    "import faiss\n",
    "import numpy as np\n"
   ]
  },
  {
   "cell_type": "code",
   "execution_count": 7,
   "metadata": {},
   "outputs": [
    {
     "name": "stdout",
     "output_type": "stream",
     "text": [
      "Loaded 370 chunks\n"
     ]
    }
   ],
   "source": [
    "with open(\"../data/combined/all_chunks.json\", \"r\", encoding=\"utf-8\") as f:\n",
    "    chunks = json.load(f)\n",
    "print(f\"Loaded {len(chunks)} chunks\")\n",
    "#chunks"
   ]
  },
  {
   "cell_type": "code",
   "execution_count": 9,
   "metadata": {},
   "outputs": [],
   "source": [
    "model = SentenceTransformer(\"all-MiniLM-L6-v2\")\n",
    "\n",
    "texts = [chunk[\"chunk\"] for chunk in chunks]\n",
    "#texts"
   ]
  },
  {
   "cell_type": "code",
   "execution_count": 10,
   "metadata": {},
   "outputs": [
    {
     "data": {
      "application/vnd.jupyter.widget-view+json": {
       "model_id": "fc379ab9ca2e407987fb64adb5214891",
       "version_major": 2,
       "version_minor": 0
      },
      "text/plain": [
       "Batches:   0%|          | 0/12 [00:00<?, ?it/s]"
      ]
     },
     "metadata": {},
     "output_type": "display_data"
    }
   ],
   "source": [
    "embeddings = model.encode(texts, show_progress_bar=True)"
   ]
  },
  {
   "cell_type": "code",
   "execution_count": 12,
   "metadata": {},
   "outputs": [],
   "source": [
    "import numpy as np\n",
    "np.save(\"../data/combined/embeddings.npy\", embeddings)"
   ]
  },
  {
   "cell_type": "code",
   "execution_count": 13,
   "metadata": {},
   "outputs": [
    {
     "data": {
      "text/plain": [
       "384"
      ]
     },
     "execution_count": 13,
     "metadata": {},
     "output_type": "execute_result"
    }
   ],
   "source": [
    "\n",
    "\n",
    "dimension = len(embeddings[0])\n",
    "index = faiss.IndexFlatL2(dimension)\n",
    "index.add(np.array(embeddings))\n",
    "dimension"
   ]
  },
  {
   "cell_type": "code",
   "execution_count": 14,
   "metadata": {},
   "outputs": [
    {
     "data": {
      "text/plain": [
       "<faiss.swigfaiss_avx2.IndexFlatL2; proxy of <Swig Object of type 'faiss::IndexFlatL2 *' at 0x1679efb70> >"
      ]
     },
     "execution_count": 14,
     "metadata": {},
     "output_type": "execute_result"
    }
   ],
   "source": [
    "index"
   ]
  },
  {
   "cell_type": "code",
   "execution_count": 15,
   "metadata": {},
   "outputs": [],
   "source": [
    "faiss.write_index(index, \"../data/combined/faiss_index.index\")\n",
    "\n",
    "# Save metadata alongside\n",
    "with open(\"../data/combined/chunk_metadata.json\", \"w\", encoding=\"utf-8\") as f:\n",
    "    json.dump(chunks, f, indent=2, ensure_ascii=False)"
   ]
  },
  {
   "cell_type": "markdown",
   "metadata": {},
   "source": [
    "### Saved the metadata and vectors, now is the time to test by sending some queries\n",
    "\n",
    "- Load the saved faiss index and metadata\n",
    "- Load the model to embed the query"
   ]
  },
  {
   "cell_type": "code",
   "execution_count": 19,
   "metadata": {},
   "outputs": [],
   "source": [
    "# query = \"meal ideas for 10-month-old baby with no eggs\"\n",
    "# query_embedding = model.encode([query])\n",
    "# D, I = index.search(np.array(query_embedding), k=5)\n",
    "\n",
    "# for idx in I[0]:\n",
    "#     print(chunks[idx][\"chunk\"])\n",
    "#     print(\"Source:\", chunks[idx][\"source_type\"], \"Title:\", chunks[idx][\"title\"])\n",
    "#     print(\"-----------\")\n"
   ]
  },
  {
   "cell_type": "code",
   "execution_count": 3,
   "metadata": {},
   "outputs": [
    {
     "name": "stdout",
     "output_type": "stream",
     "text": [
      "Loaded metadata for 370 chunks\n"
     ]
    }
   ],
   "source": [
    "import json\n",
    "import faiss\n",
    "\n",
    "with open(\"../data/combined/chunk_metadata.json\", \"r\", encoding=\"utf-8\") as f:\n",
    "    chunk_metadata = json.load(f)\n",
    "\n",
    "print(f\"Loaded metadata for {len(chunk_metadata)} chunks\")\n",
    "\n",
    "index = faiss.read_index(\"../data/combined/faiss_index.index\")"
   ]
  },
  {
   "cell_type": "code",
   "execution_count": 6,
   "metadata": {},
   "outputs": [],
   "source": [
    "from sentence_transformers import SentenceTransformer\n",
    "import numpy as np\n",
    "\n",
    "model = SentenceTransformer(\"all-MiniLM-L6-v2\")\n",
    "\n",
    "query = \"meal ideas for 10-month-old baby\"\n",
    "query_vector = model.encode([query])"
   ]
  },
  {
   "cell_type": "code",
   "execution_count": 7,
   "metadata": {},
   "outputs": [],
   "source": [
    "\n",
    "D, I = index.search(query_vector, k=6)\n",
    "top_chunks = [chunk_metadata[i] for i in I[0]]"
   ]
  },
  {
   "cell_type": "code",
   "execution_count": 8,
   "metadata": {},
   "outputs": [
    {
     "data": {
      "text/plain": [
       "[{'chunk': \"baby's diet should consist of a variety of the following: - fruit and vegetables, including ones with bitter flavours, such as broccoli, cauliflower, spinach and cabbage - potatoes, bread, rice, pasta and other starchy foods - beans, pulses, fish, eggs, meat and other non-dairy sources of protein - pasteurised full-fat dairy products, such as plain yoghurt and cheese (choose lower salt options) As your baby becomes a more confident eater, remember to offer them more mashed, lumpy and finger foods. Providing finger foods as part of each meal helps encourage infants to feed themselves, develop hand and eye co-ordination, and learn to bite off, chew and swallow pieces of soft food. Remember, babies do not need salt or sugar added to their food (or cooking water). Feeding your baby: from 10 to 12 months From about 10 months, your baby should now be having 3 meals a day (breakfast, lunch\",\n",
       "  'section': 'Baby-led weaning',\n",
       "  'source_url': 'https://www.nhs.uk/conditions/baby/weaning-and-feeding/babys-first-solid-foods/',\n",
       "  'title': 'Babys First Solid Foods',\n",
       "  'chunk_id': 'babys_first_solid_foods_baby-led_weaning_2',\n",
       "  'scraped_at': '2025-04-04T05:17:58.148101',\n",
       "  'tokens': 195,\n",
       "  'source_type': 'nhs'},\n",
       " {'chunk': \"enjoying a wide range of tastes and textures. They should be able to manage a wider range of finger foods, and be able to pick up small pieces of food and move them to their mouth. They'll use a cup with more confidence. Lunches and teas can include a main course, and a fruit or unsweetened dairy-based dessert, to move eating patterns closer to those of children over 1 year. As your baby grows, eating together as a family encourages them to develop good eating habits. Remember, babies do not need salt or sugar added to their food (or cooking water). Feeding your baby: from 12 months From 12 months, your child will be eating 3 meals a day containing a [variety of different foods](https://www.nhs.uk/conditions/baby/weaning-and-feeding/what-to-feed-young-children/), including: - a minimum of 4 servings a day of starchy food, such as potatoes, bread and rice - a minimum of 4 servings a\",\n",
       "  'section': 'Baby-led weaning',\n",
       "  'source_url': 'https://www.nhs.uk/conditions/baby/weaning-and-feeding/babys-first-solid-foods/',\n",
       "  'title': 'Babys First Solid Foods',\n",
       "  'chunk_id': 'babys_first_solid_foods_baby-led_weaning_4',\n",
       "  'scraped_at': '2025-04-04T05:17:58.148101',\n",
       "  'tokens': 195,\n",
       "  'source_type': 'nhs'},\n",
       " {'chunk': \"It may take up to 10 tries, or even more, for your child to get used to new foods, flavour and textures. Be patient and keep offering a variety of fruits and vegetables, including ones with bitter flavours, such as broccoli, cauliflower, spinach and cabbage. Try to make sure fruits and vegetables are included in every meal. To help your child eat more fruit and vegetables: - give carrot sticks, cucumber sticks or slices of pepper with hummus as a snack - give apple slices with smooth peanut butter as a snack - mix chopped or mashed vegetables with rice, mashed potatoes, meat sauces or dhal - add vegetables to classic savoury dishes such as cottage or shepherd's pie, spaghetti bolognese or casseroles - chop prunes or dried apricots into cereal or plain, unsweetened yoghurt, or add them to a stew - for a tasty dessert, try mixing fruit (fresh,\",\n",
       "  'section': 'Getting your child to eat fruit and vegetables',\n",
       "  'source_url': 'https://www.nhs.uk/conditions/baby/weaning-and-feeding/baby-and-toddler-meal-ideas/',\n",
       "  'title': 'Baby And Toddler Meal Ideas',\n",
       "  'chunk_id': 'baby_and_toddler_meal_ideas_getting_your_child_to_eat_fruit_and_vegetables_0',\n",
       "  'scraped_at': '2025-04-04T05:17:58.730347',\n",
       "  'tokens': 195,\n",
       "  'source_type': 'nhs'},\n",
       " {'chunk': 'serving. Freeze any leftovers in small pots or ice cube trays. Add any left over fruit to cereal or porridge for a tasty breakfast. Weaning tip Try mashed and finger foods as soon as your baby is ready, to help them learn to chew and swallow solid foods.',\n",
       "  'chunk_id': 'fruity_stew_1',\n",
       "  'title': 'Fruity Stew',\n",
       "  'description': 'First tastes don’t have to be hard work! These warm stewed apples are easy to whip up and a great introduction to fruit for your baby.',\n",
       "  'source_url': 'https://www.nhs.uk/start-for-life/baby/recipes-and-meal-ideas/fruity-stew/',\n",
       "  'scraped_at': '2025-04-04T07:45:17.167592',\n",
       "  'tokens': 62,\n",
       "  'age_range': '6 months or older',\n",
       "  'prep_time': '5 mins',\n",
       "  'cook_time': '10 mins',\n",
       "  'portions': 6,\n",
       "  'ingredients': ['1 large apple, peeled, cored and chopped', '75ml water'],\n",
       "  'weaning_tip': None,\n",
       "  'meal_type': 'unknown',\n",
       "  'source_type': 'recipe'},\n",
       " {'chunk': 'a [variety of different foods](https://www.nhs.uk/conditions/baby/weaning-and-feeding/what-to-feed-young-children/), including: - a minimum of 4 servings a day of starchy food, such as potatoes, bread and rice - a minimum of 4 servings a day of fruit and vegetables - a minimum of 350ml milk or 2 servings of dairy products (or alternatives) - a minimum of 1 serving a day of protein from animal sources (meat, fish and eggs) or 2 from vegetable sources (dhal, beans, chickpeas and lentils) Your child may also need 2 healthy snacks in between meals. Go for things like: - fresh fruits, such as slices of apple and banana, or small pieces of soft, ripe, peeled pear or peach - cooked or raw vegetable, such as broccoli florets, carrot sticks or cucumber sticks - pasteurised plain, unsweetened, full-fat yoghurt - sticks of cheese (choose a lower salt option) - toast, pitta or chapatti fingers - unsalted and unsweetened',\n",
       "  'section': 'Baby-led weaning',\n",
       "  'source_url': 'https://www.nhs.uk/conditions/baby/weaning-and-feeding/babys-first-solid-foods/',\n",
       "  'title': 'Babys First Solid Foods',\n",
       "  'chunk_id': 'babys_first_solid_foods_baby-led_weaning_5',\n",
       "  'scraped_at': '2025-04-04T05:17:58.148101',\n",
       "  'tokens': 195,\n",
       "  'source_type': 'nhs'}]"
      ]
     },
     "execution_count": 8,
     "metadata": {},
     "output_type": "execute_result"
    }
   ],
   "source": [
    "top_chunks"
   ]
  },
  {
   "cell_type": "markdown",
   "metadata": {},
   "source": [
    "### This is not working well because the allergen is suggested in the meal option!!! \n",
    "\n",
    "- Need to work on filtering after faiss embedding\n",
    "- First check how LLM is going to help already"
   ]
  },
  {
   "cell_type": "code",
   "execution_count": 9,
   "metadata": {},
   "outputs": [],
   "source": [
    "from dotenv import load_dotenv\n",
    "import os"
   ]
  },
  {
   "cell_type": "code",
   "execution_count": 10,
   "metadata": {},
   "outputs": [
    {
     "name": "stdout",
     "output_type": "stream",
     "text": [
      "API key loaded successfully\n"
     ]
    }
   ],
   "source": [
    "# Load from .env file\n",
    "load_dotenv()\n",
    "\n",
    "# Get the key\n",
    "openai_api_key = os.getenv(\"OPENAI_API_KEY\")\n",
    "\n",
    "if openai_api_key:\n",
    "    print(\"API key loaded successfully\")\n",
    "else:\n",
    "    print(\"Failed to load API key\")"
   ]
  },
  {
   "cell_type": "code",
   "execution_count": 11,
   "metadata": {},
   "outputs": [],
   "source": [
    "import openai\n",
    "\n",
    "openai.api_key = openai_api_key\n"
   ]
  },
  {
   "cell_type": "code",
   "execution_count": 12,
   "metadata": {},
   "outputs": [],
   "source": [
    "user_query = \"What are some meal ideas for a 10-month-old baby with an egg allergy?\"\n",
    "\n",
    "# Join top chunks\n",
    "context = \"\\n\\n\".join(chunk[\"chunk\"] for chunk in top_chunks)\n",
    "\n",
    "prompt = f\"\"\"You are a baby nutrition assistant helping new parents.\n",
    "\n",
    "Answer the user's question using the information below.\n",
    "Avoid meals that include ingredients the user is allergic to.\n",
    "\n",
    "User question:\n",
    "{user_query}\n",
    "\n",
    "Context:\n",
    "{context}\n",
    "\"\"\"\n"
   ]
  },
  {
   "cell_type": "code",
   "execution_count": 16,
   "metadata": {},
   "outputs": [
    {
     "name": "stdout",
     "output_type": "stream",
     "text": [
      "--- Prompt Context ---\n",
      "baby's diet should consist of a variety of the following: - fruit and vegetables, including ones with bitter flavours, such as broccoli, cauliflower, spinach and cabbage - potatoes, bread, rice, pasta and other starchy foods - beans, pulses, fish, eggs, meat and other non-dairy sources of protein - pasteurised full-fat dairy products, such as plain yoghurt and cheese (choose lower salt options) As your baby becomes a more confident eater, remember to offer them more mashed, lumpy and finger foods. Providing finger foods as part of each meal helps encourage infants to feed themselves, develop hand and eye co-ordination, and learn to bite off, chew and swallow pieces of soft food. Remember, babies do not need salt or sugar added to their food (or cooking water). Feeding your baby: from 10 to 12 months From about 10 months, your baby should now be having 3 meals a day (breakfast, lunch\n",
      "\n",
      "enjoying a wide range of tastes and textures. They should be able to manage a wider range of finger foods, and be able to pick up small pieces of food and move them to their mouth. They'll use a cup with more confidence. Lunches and teas can include a main course, and a fruit or unsweetened dairy-based dessert, to move eating patterns closer to those of children over 1 year. As your baby grows, eating together as a family encourages them to develop good eating habits. Remember, babies do not need salt or sugar added to their food (or cooking water). Feeding your baby: from 12 months From 12 months, your child will be eating 3 meals a day containing a [variety of different foods](https://www.nhs.uk/conditions/baby/weaning-and-feeding/what-to-feed-young-children/), including: - a minimum of 4 servings a day of starchy food, such as potatoes, bread and rice - a minimum of 4 servings a\n",
      "\n",
      "It may take up to 10 tries, or even more, for your child to get used to new foods, flavour and textures. Be patient and keep offering a variety of fruits and vegetables, including ones with bitter flavours, such as broccoli, cauliflower, spinach and cabbage. Try to make sure fruits and vegetables are included in every meal. To help your child eat more fruit and vegetables: - give carrot sticks, cucumber sticks or slices of pepper with hummus as a snack - give apple slices with smooth peanut butter as a snack - mix chopped or mashed vegetables with rice, mashed potatoes, meat sauces or dhal - add vegetables to classic savoury dishes such as cottage or shepherd's pie, spaghetti bolognese or casseroles - chop prunes or dried apricots into cereal or plain, unsweetened yoghurt, or add them to a stew - for a tasty dessert, try mixing fruit (fresh,\n",
      "\n",
      "serving. Freeze any leftovers in small pots or ice cube trays. Add any left over fruit to cereal or porridge for a tasty breakfast. Weaning tip Try mashed and finger foods as soon as your baby is ready, to help them learn to chew and swallow solid foods.\n",
      "\n",
      "a [variety of different foods](https://www.nhs.uk/conditions/baby/weaning-and-feeding/what-to-feed-young-children/), including: - a minimum of 4 servings a day of starchy food, such as potatoes, bread and rice - a minimum of 4 servings a day of fruit and vegetables - a minimum of 350ml milk or 2 servings of dairy products (or alternatives) - a minimum of 1 serving a day of protein from animal sources (meat, fish and eggs) or 2 from vegetable sources (dhal, beans, chickpeas and lentils) Your child may also need 2 healthy snacks in between meals. Go for things like: - fresh fruits, such as slices of apple and banana, or small pieces of soft, ripe, peeled pear or peach - cooked or raw vegetable, such as broccoli florets, carrot sticks or cucumber sticks - pasteurised plain, unsweetened, full-fat yoghurt - sticks of cheese (choose a lower salt option) - toast, pitta or chapatti fingers - unsalted and unsweetened\n",
      "\n",
      "--- GPT Answer ---\n",
      "For a 10-month-old baby with an egg allergy, here are some meal ideas that align with their dietary needs:\n",
      "\n",
      "1. Breakfast: \n",
      "   - Oatmeal topped with mashed fruits like banana or berries\n",
      "   - Whole grain toast strips with avocado spread\n",
      "   - Unsweetened dairy-based yogurt with pureed fruits\n",
      "\n",
      "2. Lunch:\n",
      "   - Mashed sweet potatoes with shredded chicken or lentils\n",
      "   - Steamed and mashed vegetables like carrots, peas, and sweet corn\n",
      "   - Soft-cooked pasta with tomato sauce and diced vegetables\n",
      "\n",
      "3. Dinner:\n",
      "   - Mashed potatoes with cooked and minced beef or tofu\n",
      "   - Quinoa mixed with pureed spinach and peas\n",
      "   - Lentil soup with diced vegetables and whole grain bread strips\n",
      "\n",
      "Remember to avoid any meals containing eggs or egg-based ingredients to prevent allergic reactions. It's important to offer a variety of fruits, vegetables, starchy foods, and non-dairy protein sources to ensure your baby receives a balanced diet.\n"
     ]
    }
   ],
   "source": [
    "response = openai.chat.completions.create(\n",
    "    model=\"gpt-3.5-turbo\",\n",
    "    messages=[\n",
    "        {\"role\": \"system\", \"content\": \"You are a helpful baby nutrition assistant.\"},\n",
    "        {\"role\": \"user\", \"content\": prompt}\n",
    "    ],\n",
    "    temperature=0.3\n",
    ")\n",
    "\n",
    "print(\"--- Prompt Context ---\")\n",
    "print(context)\n",
    "\n",
    "print(\"\\n--- GPT Answer ---\")\n",
    "print(response.choices[0].message.content)"
   ]
  },
  {
   "cell_type": "markdown",
   "metadata": {},
   "source": [
    "### The LLM works perfectly but it generated it's own recipes, used the NHS guildlines for safety regulation but not the recipes\n",
    "\n",
    "- Trying to use some filetring \n",
    "- also, pick like 2 chunks from NHS and 3 from recipes"
   ]
  },
  {
   "cell_type": "code",
   "execution_count": 18,
   "metadata": {},
   "outputs": [],
   "source": [
    "def filter_chunks_by_allergen(chunks, excluded_allergens):\n",
    "    filtered = []\n",
    "    for chunk in chunks:\n",
    "        ingredients = chunk.get(\"ingredients\", [])\n",
    "        joined = \" \".join(ingredients).lower()\n",
    "        if not any(allergen in joined for allergen in excluded_allergens):\n",
    "            filtered.append(chunk)\n",
    "    return filtered\n",
    "\n",
    "filtered_chunks = filter_chunks_by_allergen(top_chunks, [\"egg\"])\n"
   ]
  },
  {
   "cell_type": "code",
   "execution_count": 19,
   "metadata": {},
   "outputs": [
    {
     "data": {
      "text/plain": [
       "[{'chunk': \"baby's diet should consist of a variety of the following: - fruit and vegetables, including ones with bitter flavours, such as broccoli, cauliflower, spinach and cabbage - potatoes, bread, rice, pasta and other starchy foods - beans, pulses, fish, eggs, meat and other non-dairy sources of protein - pasteurised full-fat dairy products, such as plain yoghurt and cheese (choose lower salt options) As your baby becomes a more confident eater, remember to offer them more mashed, lumpy and finger foods. Providing finger foods as part of each meal helps encourage infants to feed themselves, develop hand and eye co-ordination, and learn to bite off, chew and swallow pieces of soft food. Remember, babies do not need salt or sugar added to their food (or cooking water). Feeding your baby: from 10 to 12 months From about 10 months, your baby should now be having 3 meals a day (breakfast, lunch\",\n",
       "  'section': 'Baby-led weaning',\n",
       "  'source_url': 'https://www.nhs.uk/conditions/baby/weaning-and-feeding/babys-first-solid-foods/',\n",
       "  'title': 'Babys First Solid Foods',\n",
       "  'chunk_id': 'babys_first_solid_foods_baby-led_weaning_2',\n",
       "  'scraped_at': '2025-04-04T05:17:58.148101',\n",
       "  'tokens': 195,\n",
       "  'source_type': 'nhs'},\n",
       " {'chunk': \"enjoying a wide range of tastes and textures. They should be able to manage a wider range of finger foods, and be able to pick up small pieces of food and move them to their mouth. They'll use a cup with more confidence. Lunches and teas can include a main course, and a fruit or unsweetened dairy-based dessert, to move eating patterns closer to those of children over 1 year. As your baby grows, eating together as a family encourages them to develop good eating habits. Remember, babies do not need salt or sugar added to their food (or cooking water). Feeding your baby: from 12 months From 12 months, your child will be eating 3 meals a day containing a [variety of different foods](https://www.nhs.uk/conditions/baby/weaning-and-feeding/what-to-feed-young-children/), including: - a minimum of 4 servings a day of starchy food, such as potatoes, bread and rice - a minimum of 4 servings a\",\n",
       "  'section': 'Baby-led weaning',\n",
       "  'source_url': 'https://www.nhs.uk/conditions/baby/weaning-and-feeding/babys-first-solid-foods/',\n",
       "  'title': 'Babys First Solid Foods',\n",
       "  'chunk_id': 'babys_first_solid_foods_baby-led_weaning_4',\n",
       "  'scraped_at': '2025-04-04T05:17:58.148101',\n",
       "  'tokens': 195,\n",
       "  'source_type': 'nhs'},\n",
       " {'chunk': \"It may take up to 10 tries, or even more, for your child to get used to new foods, flavour and textures. Be patient and keep offering a variety of fruits and vegetables, including ones with bitter flavours, such as broccoli, cauliflower, spinach and cabbage. Try to make sure fruits and vegetables are included in every meal. To help your child eat more fruit and vegetables: - give carrot sticks, cucumber sticks or slices of pepper with hummus as a snack - give apple slices with smooth peanut butter as a snack - mix chopped or mashed vegetables with rice, mashed potatoes, meat sauces or dhal - add vegetables to classic savoury dishes such as cottage or shepherd's pie, spaghetti bolognese or casseroles - chop prunes or dried apricots into cereal or plain, unsweetened yoghurt, or add them to a stew - for a tasty dessert, try mixing fruit (fresh,\",\n",
       "  'section': 'Getting your child to eat fruit and vegetables',\n",
       "  'source_url': 'https://www.nhs.uk/conditions/baby/weaning-and-feeding/baby-and-toddler-meal-ideas/',\n",
       "  'title': 'Baby And Toddler Meal Ideas',\n",
       "  'chunk_id': 'baby_and_toddler_meal_ideas_getting_your_child_to_eat_fruit_and_vegetables_0',\n",
       "  'scraped_at': '2025-04-04T05:17:58.730347',\n",
       "  'tokens': 195,\n",
       "  'source_type': 'nhs'},\n",
       " {'chunk': 'serving. Freeze any leftovers in small pots or ice cube trays. Add any left over fruit to cereal or porridge for a tasty breakfast. Weaning tip Try mashed and finger foods as soon as your baby is ready, to help them learn to chew and swallow solid foods.',\n",
       "  'chunk_id': 'fruity_stew_1',\n",
       "  'title': 'Fruity Stew',\n",
       "  'description': 'First tastes don’t have to be hard work! These warm stewed apples are easy to whip up and a great introduction to fruit for your baby.',\n",
       "  'source_url': 'https://www.nhs.uk/start-for-life/baby/recipes-and-meal-ideas/fruity-stew/',\n",
       "  'scraped_at': '2025-04-04T07:45:17.167592',\n",
       "  'tokens': 62,\n",
       "  'age_range': '6 months or older',\n",
       "  'prep_time': '5 mins',\n",
       "  'cook_time': '10 mins',\n",
       "  'portions': 6,\n",
       "  'ingredients': ['1 large apple, peeled, cored and chopped', '75ml water'],\n",
       "  'weaning_tip': None,\n",
       "  'meal_type': 'unknown',\n",
       "  'source_type': 'recipe'},\n",
       " {'chunk': 'a [variety of different foods](https://www.nhs.uk/conditions/baby/weaning-and-feeding/what-to-feed-young-children/), including: - a minimum of 4 servings a day of starchy food, such as potatoes, bread and rice - a minimum of 4 servings a day of fruit and vegetables - a minimum of 350ml milk or 2 servings of dairy products (or alternatives) - a minimum of 1 serving a day of protein from animal sources (meat, fish and eggs) or 2 from vegetable sources (dhal, beans, chickpeas and lentils) Your child may also need 2 healthy snacks in between meals. Go for things like: - fresh fruits, such as slices of apple and banana, or small pieces of soft, ripe, peeled pear or peach - cooked or raw vegetable, such as broccoli florets, carrot sticks or cucumber sticks - pasteurised plain, unsweetened, full-fat yoghurt - sticks of cheese (choose a lower salt option) - toast, pitta or chapatti fingers - unsalted and unsweetened',\n",
       "  'section': 'Baby-led weaning',\n",
       "  'source_url': 'https://www.nhs.uk/conditions/baby/weaning-and-feeding/babys-first-solid-foods/',\n",
       "  'title': 'Babys First Solid Foods',\n",
       "  'chunk_id': 'babys_first_solid_foods_baby-led_weaning_5',\n",
       "  'scraped_at': '2025-04-04T05:17:58.148101',\n",
       "  'tokens': 195,\n",
       "  'source_type': 'nhs'}]"
      ]
     },
     "execution_count": 19,
     "metadata": {},
     "output_type": "execute_result"
    }
   ],
   "source": [
    "filtered_chunks"
   ]
  },
  {
   "cell_type": "code",
   "execution_count": 20,
   "metadata": {},
   "outputs": [],
   "source": [
    "nhs_chunks = [c for c in filtered_chunks if c[\"source_type\"] == \"nhs\"]\n",
    "recipe_chunks = [c for c in filtered_chunks if c[\"source_type\"] == \"recipe\"]\n"
   ]
  },
  {
   "cell_type": "code",
   "execution_count": 23,
   "metadata": {},
   "outputs": [
    {
     "data": {
      "text/plain": [
       "[{'chunk': 'serving. Freeze any leftovers in small pots or ice cube trays. Add any left over fruit to cereal or porridge for a tasty breakfast. Weaning tip Try mashed and finger foods as soon as your baby is ready, to help them learn to chew and swallow solid foods.',\n",
       "  'chunk_id': 'fruity_stew_1',\n",
       "  'title': 'Fruity Stew',\n",
       "  'description': 'First tastes don’t have to be hard work! These warm stewed apples are easy to whip up and a great introduction to fruit for your baby.',\n",
       "  'source_url': 'https://www.nhs.uk/start-for-life/baby/recipes-and-meal-ideas/fruity-stew/',\n",
       "  'scraped_at': '2025-04-04T07:45:17.167592',\n",
       "  'tokens': 62,\n",
       "  'age_range': '6 months or older',\n",
       "  'prep_time': '5 mins',\n",
       "  'cook_time': '10 mins',\n",
       "  'portions': 6,\n",
       "  'ingredients': ['1 large apple, peeled, cored and chopped', '75ml water'],\n",
       "  'weaning_tip': None,\n",
       "  'meal_type': 'unknown',\n",
       "  'source_type': 'recipe'}]"
      ]
     },
     "execution_count": 23,
     "metadata": {},
     "output_type": "execute_result"
    }
   ],
   "source": [
    "recipe_chunks"
   ]
  },
  {
   "cell_type": "code",
   "execution_count": 21,
   "metadata": {},
   "outputs": [],
   "source": [
    "context_chunks = nhs_chunks[:3] + recipe_chunks[:2]\n",
    "context = \"\\n\\n\".join(chunk[\"chunk\"] for chunk in context_chunks)\n"
   ]
  },
  {
   "cell_type": "code",
   "execution_count": 22,
   "metadata": {},
   "outputs": [
    {
     "name": "stdout",
     "output_type": "stream",
     "text": [
      "For a 10-month-old with an egg allergy, you can consider offering a variety of fruits, vegetables, starchy foods like potatoes and rice, beans, pulses, fish, and meat as non-dairy sources of protein. You can also include pasteurized full-fat dairy products like plain yogurt and cheese (choose lower salt options). Remember to avoid adding salt or sugar to their food. As your baby becomes more confident with eating, offer mashed, lumpy, and finger foods to encourage self-feeding and develop hand-eye coordination. Be patient and keep offering a variety of fruits and vegetables, including those with bitter flavors like broccoli, cauliflower, spinach, and cabbage. You can mix chopped or mashed vegetables with other foods like rice, mashed potatoes, or meat sauces. Additionally, consider offering fruit-based desserts or mixing fruit with cereal or porridge for breakfast.\n"
     ]
    }
   ],
   "source": [
    "user_query = \"Meal ideas for 10-month-old with egg allergy\"\n",
    "\n",
    "prompt = f\"\"\"You are a helpful baby nutrition assistant.\n",
    "\n",
    "Answer the user’s question using only the provided context.\n",
    "Avoid any suggestions that include egg or unsafe foods for a 10-month-old.\n",
    "\n",
    "User question:\n",
    "{user_query}\n",
    "\n",
    "Context:\n",
    "{context}\n",
    "\"\"\"\n",
    "\n",
    "response = openai.chat.completions.create(\n",
    "    model=\"gpt-3.5-turbo\",\n",
    "    messages=[\n",
    "        {\"role\": \"system\", \"content\": \"You are a helpful baby nutrition assistant.\"},\n",
    "        {\"role\": \"user\", \"content\": prompt}\n",
    "    ],\n",
    "    temperature=0.3\n",
    ")\n",
    "\n",
    "print(response.choices[0].message.content)\n"
   ]
  },
  {
   "cell_type": "markdown",
   "metadata": {},
   "source": [
    "### Observation\n",
    "- It picked up NHS guideline and some recipes. Recipes clearly avoided eggs and general NHS guideline is fine with eggs\n",
    "- it created a very strong answer but not a meal really\n",
    "- so going to try a few more filters for now, assuming over optimization will happen for one kind of query"
   ]
  },
  {
   "cell_type": "code",
   "execution_count": 24,
   "metadata": {},
   "outputs": [],
   "source": [
    "recipe_chunks = [c for c in filtered_chunks if c[\"source_type\"] == \"recipe\"]"
   ]
  },
  {
   "cell_type": "code",
   "execution_count": 25,
   "metadata": {},
   "outputs": [
    {
     "data": {
      "text/plain": [
       "[{'chunk': 'serving. Freeze any leftovers in small pots or ice cube trays. Add any left over fruit to cereal or porridge for a tasty breakfast. Weaning tip Try mashed and finger foods as soon as your baby is ready, to help them learn to chew and swallow solid foods.',\n",
       "  'chunk_id': 'fruity_stew_1',\n",
       "  'title': 'Fruity Stew',\n",
       "  'description': 'First tastes don’t have to be hard work! These warm stewed apples are easy to whip up and a great introduction to fruit for your baby.',\n",
       "  'source_url': 'https://www.nhs.uk/start-for-life/baby/recipes-and-meal-ideas/fruity-stew/',\n",
       "  'scraped_at': '2025-04-04T07:45:17.167592',\n",
       "  'tokens': 62,\n",
       "  'age_range': '6 months or older',\n",
       "  'prep_time': '5 mins',\n",
       "  'cook_time': '10 mins',\n",
       "  'portions': 6,\n",
       "  'ingredients': ['1 large apple, peeled, cored and chopped', '75ml water'],\n",
       "  'weaning_tip': None,\n",
       "  'meal_type': 'unknown',\n",
       "  'source_type': 'recipe'}]"
      ]
     },
     "execution_count": 25,
     "metadata": {},
     "output_type": "execute_result"
    }
   ],
   "source": [
    "recipe_chunks"
   ]
  },
  {
   "cell_type": "code",
   "execution_count": 28,
   "metadata": {},
   "outputs": [],
   "source": [
    "context_chunks = nhs_chunks[:3] + recipe_chunks[:2] \n",
    "context = \"\\n\\n\".join(chunk[\"chunk\"] for chunk in context_chunks)\n"
   ]
  },
  {
   "cell_type": "code",
   "execution_count": 29,
   "metadata": {},
   "outputs": [],
   "source": [
    "prompt = f\"\"\"You are a helpful baby nutrition assistant.\n",
    "\n",
    "Answer the user’s question using only the provided context.\n",
    "Avoid meals with egg. If suitable, suggest a specific meal or recipe mentioned.\n",
    "\n",
    "User question:\n",
    "{user_query}\n",
    "\n",
    "Context:\n",
    "{context}\n",
    "\"\"\"\n"
   ]
  },
  {
   "cell_type": "code",
   "execution_count": 30,
   "metadata": {},
   "outputs": [
    {
     "name": "stdout",
     "output_type": "stream",
     "text": [
      "Meal ideas for a 10-month-old with an egg allergy could include mashed vegetables with rice, mashed potatoes, or meat sauces. You can also try adding vegetables to dishes like cottage or shepherd's pie, spaghetti bolognese, or casseroles. For a snack, consider offering carrot sticks, cucumber sticks, or slices of pepper with hummus. Remember to avoid meals with egg and continue offering a variety of fruits and vegetables in every meal.\n"
     ]
    }
   ],
   "source": [
    "response = openai.chat.completions.create(\n",
    "    model=\"gpt-3.5-turbo\",\n",
    "    messages=[\n",
    "        {\"role\": \"system\", \"content\": \"You are a helpful baby nutrition assistant.\"},\n",
    "        {\"role\": \"user\", \"content\": prompt}\n",
    "    ],\n",
    "    temperature=0.3\n",
    ")\n",
    "\n",
    "print(response.choices[0].message.content)\n"
   ]
  },
  {
   "cell_type": "code",
   "execution_count": 31,
   "metadata": {},
   "outputs": [],
   "source": [
    "# Reformat recipe chunks to include recipe title as part of the chunk text\n",
    "for chunk in recipe_chunks:\n",
    "    chunk[\"chunk\"] = f\"Recipe: {chunk['title']}\\n{chunk['chunk']}\"\n"
   ]
  },
  {
   "cell_type": "code",
   "execution_count": 32,
   "metadata": {},
   "outputs": [],
   "source": [
    "context_chunks = nhs_chunks[:3] + recipe_chunks[:2]\n",
    "context = \"\\n\\n\".join(chunk[\"chunk\"] for chunk in context_chunks)\n"
   ]
  },
  {
   "cell_type": "code",
   "execution_count": 43,
   "metadata": {},
   "outputs": [],
   "source": [
    "prompt = f\"\"\"You are a helpful baby nutrition assistant.\n",
    "\n",
    "You are a baby nutrition assistant helping new parents.\n",
    "\n",
    "Answer the user's question using only the provided context.\n",
    "If the context includes a named recipe, describe it in full (ingredients + steps), and mention why it is safe for the user's allergy.\n",
    "Also suggest what ingredients can replace the allergen (e.g. other protein sources if eggs are avoided), and how they can be added to meals to keep them balanced and nutritious.\n",
    "\n",
    "Only use information from the context. Do not invent recipes or ingredients that are not present in the context.\n",
    "\n",
    "User question:\n",
    "{user_query}\n",
    "\n",
    "Context:\n",
    "{context}\n",
    "\"\"\"\n"
   ]
  },
  {
   "cell_type": "code",
   "execution_count": 44,
   "metadata": {},
   "outputs": [
    {
     "name": "stdout",
     "output_type": "stream",
     "text": [
      "For a 10-month-old with an egg allergy, you can consider the following meal ideas:\n",
      "\n",
      "1. **Fruity Stew**: This recipe is a great option for your baby and is safe for an egg allergy. It contains a variety of fruits and is easy to prepare. Here's how you can make it:\n",
      "   - Ingredients: Assorted fruits (such as apples, pears, peaches, and berries), water\n",
      "   - Steps: \n",
      "     1. Wash and peel the fruits, removing any seeds or pits.\n",
      "     2. Chop the fruits into small, baby-friendly pieces.\n",
      "     3. Place the fruits in a saucepan with a little water.\n",
      "     4. Cook the fruits over low heat until they are soft and can be easily mashed.\n",
      "     5. Mash or puree the fruits to the desired consistency.\n",
      "     6. Let it cool before serving to your baby.\n",
      "\n",
      "To replace the protein from eggs in your baby's diet, you can include other non-dairy sources of protein such as beans, pulses, fish, and meat. For example, you can add mashed beans or lentils to pureed vegetables, mix flaked fish into mashed potatoes, or offer small pieces of cooked meat as finger foods. These alternatives will help ensure your baby receives adequate protein for growth and development while avoiding eggs.\n",
      "\n",
      "Remember to continue offering a variety of fruits and vegetables, starchy foods, and non-dairy protein sources to keep your baby's meals balanced and nutritious.\n"
     ]
    }
   ],
   "source": [
    "response = openai.chat.completions.create(\n",
    "    model=\"gpt-3.5-turbo\",\n",
    "    messages=[\n",
    "        {\"role\": \"system\", \"content\": \"You are a helpful baby nutrition assistant.\"},\n",
    "        {\"role\": \"user\", \"content\": prompt}\n",
    "    ],\n",
    "    temperature=0.3\n",
    ")\n",
    "\n",
    "print(response.choices[0].message.content)\n"
   ]
  },
  {
   "cell_type": "markdown",
   "metadata": {},
   "source": [
    "### Tried many prompts and the answers were:\n",
    "- 1st only the list of egg replacement \n",
    "- 2nd only the recipe\n",
    "- 3rd answer had both\n",
    "- now going to try other questions with the final prompt\n",
    "    - What should I do if my baby refuses solid food?\n",
    "    - Can I give salt to my 9-month-old baby?\n",
    "    - What should a typical day of meals look like for a 10-month-old?\n",
    "    - Can I give my baby Kombucha?\n",
    "    - Meal ideas for 10-month-old with egg allergy"
   ]
  },
  {
   "cell_type": "code",
   "execution_count": 64,
   "metadata": {},
   "outputs": [
    {
     "name": "stdout",
     "output_type": "stream",
     "text": [
      "GPT Answer:\n",
      "\n",
      "You can introduce nuts and peanuts to your baby from around 6 months old, as long as they are crushed, ground, or in the form of a smooth nut or peanut butter. If there is a history of food allergies in your family, it's best to consult with your GP or health visitor before introducing nuts and peanuts.\n"
     ]
    }
   ],
   "source": [
    "# 🔄 CHANGE THIS LINE for each test\n",
    "user_query = \"When should I introduce peanuts?\"\n",
    "\n",
    "# 1. Embed the query\n",
    "query_vector = model.encode([user_query])\n",
    "\n",
    "# 2. Search FAISS\n",
    "D, I = index.search(np.array(query_vector), k=6)\n",
    "retrieved_chunks = [chunk_metadata[i] for i in I[0]]\n",
    "\n",
    "# 3. (Optional) Allergen filter — disabled here\n",
    "# filtered_chunks = filter_chunks_by_allergen(retrieved_chunks, [\"egg\"])\n",
    "filtered_chunks = retrieved_chunks  # For general queries\n",
    "\n",
    "# 4. Categorize by source\n",
    "nhs_chunks = [c for c in filtered_chunks if c.get(\"source_type\") == \"nhs\"]\n",
    "recipe_chunks = [c for c in filtered_chunks if c.get(\"source_type\") == \"recipe\"]\n",
    "\n",
    "# 5. Inject recipe title into chunk if needed\n",
    "for chunk in recipe_chunks:\n",
    "    chunk[\"chunk\"] = f\"Recipe: {chunk['title']}\\n{chunk['chunk']}\"\n",
    "\n",
    "# 6. Blend context (adjust counts as needed)\n",
    "context_chunks = nhs_chunks[:4] + recipe_chunks[:1]\n",
    "context = \"\\n\\n\".join(c[\"chunk\"] for c in context_chunks)\n",
    "\n",
    "# 7. Build the prompt\n",
    "prompt = f\"\"\"You are a helpful baby nutrition assistant.\n",
    "\n",
    "Answer the user’s question using only the information in the context below.\n",
    "If the context contains any named recipes, you may mention them only if relevant.\n",
    "Always prioritize safe advice. If you're unsure, say you don't know.\n",
    "\n",
    "User question:\n",
    "{user_query}\n",
    "\n",
    "Context:\n",
    "{context}\n",
    "\"\"\"\n",
    "\n",
    "# 8. Call GPT\n",
    "response = openai.chat.completions.create(\n",
    "    model=\"gpt-3.5-turbo\",\n",
    "    messages=[\n",
    "        {\"role\": \"system\", \"content\": \"You are a helpful baby nutrition assistant.\"},\n",
    "        {\"role\": \"user\", \"content\": prompt}\n",
    "    ],\n",
    "    temperature=0.3\n",
    ")\n",
    "\n",
    "# 9. Show response\n",
    "print(\"GPT Answer:\\n\")\n",
    "print(response.choices[0].message.content)\n"
   ]
  },
  {
   "cell_type": "code",
   "execution_count": null,
   "metadata": {},
   "outputs": [],
   "source": []
  },
  {
   "cell_type": "code",
   "execution_count": null,
   "metadata": {},
   "outputs": [],
   "source": []
  },
  {
   "cell_type": "code",
   "execution_count": null,
   "metadata": {},
   "outputs": [],
   "source": []
  },
  {
   "cell_type": "code",
   "execution_count": null,
   "metadata": {},
   "outputs": [],
   "source": []
  },
  {
   "cell_type": "code",
   "execution_count": null,
   "metadata": {},
   "outputs": [],
   "source": []
  },
  {
   "cell_type": "code",
   "execution_count": null,
   "metadata": {},
   "outputs": [],
   "source": []
  },
  {
   "cell_type": "code",
   "execution_count": null,
   "metadata": {},
   "outputs": [],
   "source": []
  },
  {
   "cell_type": "code",
   "execution_count": null,
   "metadata": {},
   "outputs": [],
   "source": []
  }
 ],
 "metadata": {
  "kernelspec": {
   "display_name": "Python 3.11",
   "language": "python",
   "name": "python3.11"
  },
  "language_info": {
   "codemirror_mode": {
    "name": "ipython",
    "version": 3
   },
   "file_extension": ".py",
   "mimetype": "text/x-python",
   "name": "python",
   "nbconvert_exporter": "python",
   "pygments_lexer": "ipython3",
   "version": "3.11.10"
  }
 },
 "nbformat": 4,
 "nbformat_minor": 4
}
