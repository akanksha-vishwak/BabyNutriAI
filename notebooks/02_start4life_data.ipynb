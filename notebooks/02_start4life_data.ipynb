{
 "cells": [
  {
   "cell_type": "code",
   "execution_count": 15,
   "metadata": {},
   "outputs": [],
   "source": [
    "url = \"https://www.nhs.uk/start-for-life/baby/recipes-and-meal-ideas/\""
   ]
  },
  {
   "cell_type": "code",
   "execution_count": 16,
   "metadata": {},
   "outputs": [],
   "source": [
    "import trafilatura"
   ]
  },
  {
   "cell_type": "code",
   "execution_count": 17,
   "metadata": {},
   "outputs": [],
   "source": [
    "html = trafilatura.fetch_url(url)"
   ]
  },
  {
   "cell_type": "code",
   "execution_count": 18,
   "metadata": {},
   "outputs": [],
   "source": [
    "text = trafilatura.extract(html)"
   ]
  },
  {
   "cell_type": "code",
   "execution_count": 19,
   "metadata": {},
   "outputs": [
    {
     "data": {
      "text/plain": [
       "'Recipes and meal ideas\\nFrom first tastes and finger foods to breakfast, lunch and dinner, check out our recipes for babies of all ages.\\nAll recipes\\n97 results\\nDid you know\\nBabies under 12 months do not need snacks. If you think your baby is hungry in between meals, offer extra milk feeds instead.\\nVideo: First food and drinks\\nHear from other parents in this video about how they started weaning their babies.'"
      ]
     },
     "execution_count": 19,
     "metadata": {},
     "output_type": "execute_result"
    }
   ],
   "source": [
    "text"
   ]
  },
  {
   "cell_type": "code",
   "execution_count": 48,
   "metadata": {},
   "outputs": [],
   "source": [
    "breakfast_url = \"https://www.nhs.uk/start-for-life/baby/recipes-and-meal-ideas/breakfast-cups/\""
   ]
  },
  {
   "cell_type": "code",
   "execution_count": 49,
   "metadata": {},
   "outputs": [],
   "source": [
    "html=trafilatura.fetch_url(breakfast_url)"
   ]
  },
  {
   "cell_type": "code",
   "execution_count": 50,
   "metadata": {},
   "outputs": [
    {
     "data": {
      "text/plain": [
       "'Breakfast cups recipe\\nOven-baked eggs, mushrooms and parsley served with toast and cooked tomatoes. This quick and easy recipe can be enjoyed for breakfast or lunch.\\nAge: 10 to 12 months\\nPrep: 10 mins\\nCook: 15 mins\\nPortions: 8\\nIngredients\\n- 5 medium eggs\\n- 4 or 5 mushrooms\\n- 5g fresh parsley (1 tbsp, chopped)\\n- 3 cherry tomatoes (1 portion)\\n- 1 small slice wholemeal bread (1 portion)\\n- 1 tsp vegetable oil spread (1 portion)\\nMethod\\nPreheat the oven to 180C, fan 160C, gas mark 4. Beat the egg. Roughly chop the mushrooms and parsley.\\nAdd the mushrooms to the egg and divide mixture evenly between 8 non-stick (or lightly oiled) muffin tray holes. Sprinkle each cup with parsley.\\nBake for 10 to 15 minutes, or until golden, and the eggs are cooked through (and not runny).\\nMeanwhile, put 2 tbsp water and the quartered cherry tomatoes in a small saucepan. Heat gently for 2 to 3 minutes, stirring often, until the tomatoes are soft (if the tomatoes start sticking, add a little water). Then set aside.\\nTurn out the breakfast cups onto a rack and allow to cool a little. Toast the bread, spread with vegetable spread, then cut into fingers.\\nServe 1 breakfast cup with the toast, mashed tomatoes and a spoon.\\nWeaning tip\\nFrom 10 to 12 months, your child should be having 3 meals a day.\\nMore recipes\\nMore in recipes and meal ideas'"
      ]
     },
     "execution_count": 50,
     "metadata": {},
     "output_type": "execute_result"
    }
   ],
   "source": [
    "text=trafilatura.extract(html)\n",
    "text"
   ]
  },
  {
   "cell_type": "code",
   "execution_count": null,
   "metadata": {},
   "outputs": [],
   "source": [
    "# again need bs4 for the url extraction from \"https://www.nhs.uk/start-for-life/baby/recipes-and-meal-ideas/\""
   ]
  },
  {
   "cell_type": "code",
   "execution_count": 20,
   "metadata": {},
   "outputs": [],
   "source": [
    "import requests\n",
    "from bs4 import BeautifulSoup"
   ]
  },
  {
   "cell_type": "code",
   "execution_count": 22,
   "metadata": {},
   "outputs": [],
   "source": [
    "response = requests.get(url)\n",
    "html = response.text\n",
    "# html"
   ]
  },
  {
   "cell_type": "code",
   "execution_count": 25,
   "metadata": {},
   "outputs": [],
   "source": [
    "soup = BeautifulSoup(html, \"html.parser\")\n",
    "# soup"
   ]
  },
  {
   "cell_type": "code",
   "execution_count": 42,
   "metadata": {},
   "outputs": [],
   "source": [
    "links = [a.get(\"href\") for a in soup.find_all(\"a\") if a.get(\"href\") ]\n",
    "# links"
   ]
  },
  {
   "cell_type": "code",
   "execution_count": 43,
   "metadata": {},
   "outputs": [],
   "source": [
    "relevant_links = [rl for rl in links if rl.startswith(\"/start-for-life/baby/recipes-and-meal-ideas/\")]\n",
    "# relevant_links"
   ]
  },
  {
   "cell_type": "code",
   "execution_count": null,
   "metadata": {},
   "outputs": [],
   "source": [
    "for rl in relevant_links:\n",
    "    print(rl.strip(\"/\").split(\"/\")[-1].replace(\"-\", \"_\"))"
   ]
  },
  {
   "cell_type": "code",
   "execution_count": 46,
   "metadata": {},
   "outputs": [],
   "source": [
    "import re"
   ]
  },
  {
   "cell_type": "code",
   "execution_count": 54,
   "metadata": {},
   "outputs": [
    {
     "data": {
      "text/plain": [
       "['Breakfast cups recipe',\n",
       " 'Oven-baked eggs, mushrooms and parsley served with toast and cooked tomatoes. This quick and easy recipe can be enjoyed for breakfast or lunch.',\n",
       " 'Age: 10 to 12 months',\n",
       " 'Prep: 10 mins',\n",
       " 'Cook: 15 mins',\n",
       " 'Portions: 8',\n",
       " 'Ingredients',\n",
       " '- 5 medium eggs',\n",
       " '- 4 or 5 mushrooms',\n",
       " '- 5g fresh parsley (1 tbsp, chopped)',\n",
       " '- 3 cherry tomatoes (1 portion)',\n",
       " '- 1 small slice wholemeal bread (1 portion)',\n",
       " '- 1 tsp vegetable oil spread (1 portion)',\n",
       " 'Method',\n",
       " 'Preheat the oven to 180C, fan 160C, gas mark 4. Beat the egg. Roughly chop the mushrooms and parsley.',\n",
       " 'Add the mushrooms to the egg and divide mixture evenly between 8 non-stick (or lightly oiled) muffin tray holes. Sprinkle each cup with parsley.',\n",
       " 'Bake for 10 to 15 minutes, or until golden, and the eggs are cooked through (and not runny).',\n",
       " 'Meanwhile, put 2 tbsp water and the quartered cherry tomatoes in a small saucepan. Heat gently for 2 to 3 minutes, stirring often, until the tomatoes are soft (if the tomatoes start sticking, add a little water). Then set aside.',\n",
       " 'Turn out the breakfast cups onto a rack and allow to cool a little. Toast the bread, spread with vegetable spread, then cut into fingers.',\n",
       " 'Serve 1 breakfast cup with the toast, mashed tomatoes and a spoon.',\n",
       " 'Weaning tip',\n",
       " 'From 10 to 12 months, your child should be having 3 meals a day.',\n",
       " 'More recipes',\n",
       " 'More in recipes and meal ideas']"
      ]
     },
     "execution_count": 54,
     "metadata": {},
     "output_type": "execute_result"
    }
   ],
   "source": [
    "lines = text.split(\"\\n\")\n",
    "lines"
   ]
  },
  {
   "cell_type": "code",
   "execution_count": 56,
   "metadata": {},
   "outputs": [
    {
     "data": {
      "text/plain": [
       "'Breakfast Cups'"
      ]
     },
     "execution_count": 56,
     "metadata": {},
     "output_type": "execute_result"
    }
   ],
   "source": [
    "title = lines[0].replace(\"recipe\", \"\").strip().title()\n",
    "title"
   ]
  },
  {
   "cell_type": "code",
   "execution_count": 62,
   "metadata": {},
   "outputs": [
    {
     "data": {
      "text/plain": [
       "'Oven-baked eggs, mushrooms and parsley served with toast and cooked tomatoes. This quick and easy recipe can be enjoyed for breakfast or lunch.'"
      ]
     },
     "execution_count": 62,
     "metadata": {},
     "output_type": "execute_result"
    }
   ],
   "source": [
    "description = lines[1].strip()\n",
    "description"
   ]
  },
  {
   "cell_type": "code",
   "execution_count": 63,
   "metadata": {},
   "outputs": [],
   "source": [
    "metadata = {\n",
    "    \"age_range\": None,\n",
    "    \"prep_time\": None,\n",
    "    \"cook_time\": None,\n",
    "    \"portions\": None\n",
    "}"
   ]
  },
  {
   "cell_type": "code",
   "execution_count": 72,
   "metadata": {},
   "outputs": [
    {
     "name": "stdout",
     "output_type": "stream",
     "text": [
      "8\n"
     ]
    }
   ],
   "source": [
    "for line in lines:\n",
    "    if line.lower().startswith(\"age:\"):\n",
    "        metadata[\"age_range\"] = line.split(\":\", 1)[1].strip()\n",
    "    elif line.lower().startswith(\"prep:\"):\n",
    "        metadata[\"prep_time\"] = line.split(\":\", 1)[1].strip()\n",
    "    elif line.lower().startswith(\"cook:\"):\n",
    "        metadata[\"cook_time\"] = line.split(\":\", 1)[1].strip()\n",
    "    elif line.lower().startswith(\"portions:\"):\n",
    "        portions_text = line.split(\":\", 1)[1].strip()\n",
    "        metadata[\"portions\"] = int(re.search(r\"\\d+\", portions_text).group())\n",
    "        \n",
    "        \n",
    "# `l.strip().split(\":\")[1]` and `l.split(\":\", 1)[1].strip()`  2nd is correct\n",
    "# Splits the original line, but only at the first colon (maxsplit=1)\n",
    "# Takes the second half ([1])\n",
    "# Then strips just the value part\n",
    "    \n",
    "# the regex part in the portion is to deal with cases like \n",
    "# \"8 small portions\" or \"about 4 servings\", it will still get us 8 or 4"
   ]
  },
  {
   "cell_type": "code",
   "execution_count": 73,
   "metadata": {},
   "outputs": [
    {
     "data": {
      "text/plain": [
       "('Breakfast Cups',\n",
       " 'Oven-baked eggs, mushrooms and parsley served with toast and cooked tomatoes. This quick and easy recipe can be enjoyed for breakfast or lunch.',\n",
       " {'age_range': '10 to 12 months',\n",
       "  'prep_time': '10 mins',\n",
       "  'cook_time': '15 mins',\n",
       "  'portions': 8})"
      ]
     },
     "execution_count": 73,
     "metadata": {},
     "output_type": "execute_result"
    }
   ],
   "source": [
    "title, description, metadata"
   ]
  },
  {
   "cell_type": "code",
   "execution_count": 78,
   "metadata": {},
   "outputs": [],
   "source": [
    "ingredients = []\n",
    "in_ingredients_section = False"
   ]
  },
  {
   "cell_type": "code",
   "execution_count": 79,
   "metadata": {},
   "outputs": [],
   "source": [
    "for line in lines:\n",
    "    if line.strip().lower() == \"ingredients\":\n",
    "        in_ingredients_section = True\n",
    "        continue\n",
    "    if in_ingredients_section:\n",
    "        if line.strip().lower().startswith(\"method\"):\n",
    "            break  # Stop when we reach the next section\n",
    "        if line.strip().startswith(\"-\"):\n",
    "            ingredients.append(line.strip().lstrip(\"-\").strip())\n",
    "            \n",
    "# if stripped and not stripped.startswith(\"-\") and stripped[0].isupper() and len(stripped.split()) <= 4:            \n",
    "# This checks if the line is likely a new section heading:\n",
    "# - not empty\n",
    "# - doesn't start with a bullet (-)\n",
    "# - starts with a capital letter\n",
    "# - has 4 or fewer words\n",
    "# If all true, we treat it as the start of a new section (e.g., \"Method\", \"Weaning tip\", etc.)"
   ]
  },
  {
   "cell_type": "code",
   "execution_count": 80,
   "metadata": {},
   "outputs": [
    {
     "data": {
      "text/plain": [
       "['5 medium eggs',\n",
       " '4 or 5 mushrooms',\n",
       " '5g fresh parsley (1 tbsp, chopped)',\n",
       " '3 cherry tomatoes (1 portion)',\n",
       " '1 small slice wholemeal bread (1 portion)',\n",
       " '1 tsp vegetable oil spread (1 portion)']"
      ]
     },
     "execution_count": 80,
     "metadata": {},
     "output_type": "execute_result"
    }
   ],
   "source": [
    "ingredients"
   ]
  },
  {
   "cell_type": "code",
   "execution_count": 81,
   "metadata": {},
   "outputs": [
    {
     "name": "stdout",
     "output_type": "stream",
     "text": [
      "Captured tip: From 10 to 12 months, your child should be having 3 meals a day.\n"
     ]
    }
   ],
   "source": [
    "text = \"\"\"\n",
    "Weaning tip\n",
    "From 10 to 12 months, your child should be having 3 meals a day.\n",
    "More recipes\n",
    "More in recipes and meal ideas\n",
    "\"\"\"\n",
    "\n",
    "lines = text.strip().split(\"\\n\")\n",
    "weaning_tip_next = False\n",
    "weaning_tip = None\n",
    "\n",
    "for line in lines:\n",
    "    stripped = line.strip()\n",
    "    if stripped.lower() == \"weaning tip\":\n",
    "        weaning_tip_next = True\n",
    "        continue\n",
    "    elif weaning_tip_next and stripped:\n",
    "        weaning_tip = stripped\n",
    "        break  # stop here, no need to keep going\n",
    "\n",
    "print(\"Captured tip:\", weaning_tip)\n"
   ]
  },
  {
   "cell_type": "code",
   "execution_count": null,
   "metadata": {},
   "outputs": [],
   "source": []
  },
  {
   "cell_type": "code",
   "execution_count": null,
   "metadata": {},
   "outputs": [],
   "source": []
  },
  {
   "cell_type": "code",
   "execution_count": null,
   "metadata": {},
   "outputs": [],
   "source": []
  },
  {
   "cell_type": "code",
   "execution_count": null,
   "metadata": {},
   "outputs": [],
   "source": []
  }
 ],
 "metadata": {
  "kernelspec": {
   "display_name": "Python 3.11",
   "language": "python",
   "name": "python3.11"
  },
  "language_info": {
   "codemirror_mode": {
    "name": "ipython",
    "version": 3
   },
   "file_extension": ".py",
   "mimetype": "text/x-python",
   "name": "python",
   "nbconvert_exporter": "python",
   "pygments_lexer": "ipython3",
   "version": "3.11.10"
  }
 },
 "nbformat": 4,
 "nbformat_minor": 4
}
